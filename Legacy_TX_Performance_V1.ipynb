{
 "cells": [
  {
   "cell_type": "code",
   "execution_count": null,
   "metadata": {},
   "outputs": [],
   "source": [
    "import ttkbootstrap as ttkbst\n",
    "from ttkbootstrap.constants import *\n",
    "import tkinter.scrolledtext as st\n",
    "\n",
    "import threading\n",
    "import Function as func\n",
    "\n",
    "Win_GUI = ttkbst.Window(title=\"ET Performance Drawing\", themename=\"cosmo\")\n",
    "Win_GUI.attributes(\"-topmost\", True)\n",
    "Win_GUI.geometry(\"865x510\")\n",
    "\n",
    "s = ttkbst.Style()\n",
    "s.configure(\"MIPI.TButton\", font=(\"Calibri\", 20, \"bold\"))\n",
    "\n",
    "btn_add_file = ttkbst.Button(\n",
    "    Win_GUI,\n",
    "    text=\"Draw (F5)\",\n",
    "    style=\"MIPI.TButton\",\n",
    "    command=lambda: [\n",
    "        func.add_file(Entry_file_path),\n",
    "        threading.Thread(target=func.ET_perf_drawing, args=(Win_GUI, Entry_file_path, text_area)).start(),\n",
    "    ],\n",
    ")\n",
    "btn_add_file.place(x=5, y=40, width=300, height=100)\n",
    "\n",
    "Entry_file_path = ttkbst.Entry(Win_GUI, width=60)\n",
    "Entry_file_path.insert(\n",
    "    0,\n",
    "    \"C:\\Labtest\\Report\\Spring\",\n",
    ")\n",
    "Entry_file_path.place(x=5, y=5, width=300, height=30)\n",
    "\n",
    "Scrolled_txt_frame = ttkbst.Frame(Win_GUI)\n",
    "Scrolled_txt_frame.place(x=310, y=5, width=550, height=500)\n",
    "\n",
    "text_area = st.ScrolledText(Scrolled_txt_frame, font=(\"Consolas\", 9))\n",
    "text_area.place(x=0, y=0, width=550, height=500)\n",
    "\n",
    "Win_GUI.bind(\n",
    "    \"<F5>\",\n",
    "    lambda event: [\n",
    "        func.add_file(Entry_file_path),\n",
    "        threading.Thread(target=func.ET_perf_drawing, args=(Win_GUI, Entry_file_path, text_area)).start(),\n",
    "    ],\n",
    ")\n",
    "\n",
    "Win_GUI.resizable(False, False)\n",
    "Win_GUI.focus()\n",
    "Win_GUI.mainloop()"
   ]
  }
 ],
 "metadata": {
  "language_info": {
   "name": "python"
  },
  "orig_nbformat": 4
 },
 "nbformat": 4,
 "nbformat_minor": 2
}
